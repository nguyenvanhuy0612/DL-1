{
 "cells": [
  {
   "cell_type": "code",
   "execution_count": 2,
   "metadata": {},
   "outputs": [
    {
     "name": "stderr",
     "output_type": "stream",
     "text": [
      "[nltk_data] Downloading package stopwords to\n",
      "[nltk_data]     C:\\Users\\HUYNGUYEN\\AppData\\Roaming\\nltk_data...\n",
      "[nltk_data]   Package stopwords is already up-to-date!\n",
      "[nltk_data] Downloading package wordnet to\n",
      "[nltk_data]     C:\\Users\\HUYNGUYEN\\AppData\\Roaming\\nltk_data...\n",
      "[nltk_data]   Package wordnet is already up-to-date!\n"
     ]
    }
   ],
   "source": [
    "import pandas as pd\n",
    "import re\n",
    "import nltk\n",
    "from nltk.corpus import stopwords\n",
    "from nltk.stem import WordNetLemmatizer\n",
    "from sklearn.model_selection import train_test_split\n",
    "from sklearn.feature_extraction.text import TfidfVectorizer\n",
    "from tensorflow.keras.models import Sequential\n",
    "from tensorflow.keras.layers import Dense, LSTM, Bidirectional, Embedding, Input\n",
    "from tensorflow.keras.preprocessing.sequence import pad_sequences\n",
    "from tensorflow.keras.preprocessing.text import Tokenizer\n",
    "\n",
    "# Download necessary NLTK data\n",
    "nltk.download('stopwords')\n",
    "nltk.download('wordnet')\n",
    "\n",
    "stop_words = set(stopwords.words('english'))\n",
    "lemmatizer = WordNetLemmatizer()\n",
    "\n",
    "\n",
    "# Load data\n",
    "def preprocess_data_from_file(filepath):\n",
    "    with open(filepath, 'r') as file:\n",
    "        data = file.read()\n",
    "    lines = data.strip().split('\\n')\n",
    "    labels = []\n",
    "    texts = []\n",
    "    for line in lines:\n",
    "        label, text = line.split(' ', 1)\n",
    "        label = int(label.split('__label__')[1])\n",
    "        labels.append(label)\n",
    "        texts.append(text)\n",
    "    return pd.DataFrame({'label': labels, 'text': texts})\n",
    "\n",
    "# Function to preprocess text\n",
    "def preprocess_text(text):\n",
    "    # Lowercase\n",
    "    text = text.lower()\n",
    "    # Remove punctuation and special characters\n",
    "    text = re.sub(r'[\\W_]+', ' ', text)\n",
    "    # Tokenize and remove stop words\n",
    "    tokens = text.split()\n",
    "    tokens = [word for word in tokens if word not in stop_words]\n",
    "    # Lemmatize\n",
    "    tokens = [lemmatizer.lemmatize(word) for word in tokens]\n",
    "    return ' '.join(tokens)\n",
    "\n",
    "# Apply preprocessing\n",
    "train_filepath = 'train.3270.txt'\n",
    "df_train = preprocess_data_from_file(train_filepath)\n",
    "df_train['cleaned_text'] = df_train['text'].apply(preprocess_text)\n",
    "\n",
    "# Split data into features and labels\n",
    "X = df_train['cleaned_text']\n",
    "y = df_train['label']"
   ]
  },
  {
   "cell_type": "code",
   "execution_count": 20,
   "metadata": {},
   "outputs": [
    {
     "name": "stdout",
     "output_type": "stream",
     "text": [
      "Epoch 1/10\n",
      "82/82 [==============================] - 1s 3ms/step - loss: -1.3549 - accuracy: 0.5336 - val_loss: -6.6050 - val_accuracy: 0.5229\n",
      "Epoch 2/10\n",
      "82/82 [==============================] - 0s 2ms/step - loss: -26.7245 - accuracy: 0.5459 - val_loss: -65.8690 - val_accuracy: 0.5229\n",
      "Epoch 3/10\n",
      "82/82 [==============================] - 0s 2ms/step - loss: -144.1920 - accuracy: 0.5459 - val_loss: -263.8792 - val_accuracy: 0.5229\n",
      "Epoch 4/10\n",
      "82/82 [==============================] - 0s 2ms/step - loss: -435.5533 - accuracy: 0.5459 - val_loss: -682.9580 - val_accuracy: 0.5229\n",
      "Epoch 5/10\n",
      "82/82 [==============================] - 0s 2ms/step - loss: -975.6039 - accuracy: 0.5459 - val_loss: -1394.6290 - val_accuracy: 0.5229\n",
      "Epoch 6/10\n",
      "82/82 [==============================] - 0s 2ms/step - loss: -1844.8943 - accuracy: 0.5459 - val_loss: -2472.4814 - val_accuracy: 0.5229\n",
      "Epoch 7/10\n",
      "82/82 [==============================] - 0s 2ms/step - loss: -3098.1448 - accuracy: 0.5459 - val_loss: -3981.0818 - val_accuracy: 0.5229\n",
      "Epoch 8/10\n",
      "82/82 [==============================] - 0s 2ms/step - loss: -4803.3066 - accuracy: 0.5459 - val_loss: -5973.9180 - val_accuracy: 0.5229\n",
      "Epoch 9/10\n",
      "82/82 [==============================] - 0s 2ms/step - loss: -7009.2705 - accuracy: 0.5459 - val_loss: -8506.1475 - val_accuracy: 0.5229\n",
      "Epoch 10/10\n",
      "82/82 [==============================] - 0s 2ms/step - loss: -9762.8545 - accuracy: 0.5459 - val_loss: -11615.9541 - val_accuracy: 0.5229\n",
      "21/21 [==============================] - 0s 731us/step - loss: -11615.9541 - accuracy: 0.5229\n",
      "Test Accuracy: 0.5229358077049255\n"
     ]
    }
   ],
   "source": [
    "# Step 3: Initialize and fit the TfidfVectorizer with stop_words and max_features\n",
    "vectorizer = TfidfVectorizer(stop_words='english', max_features=5000)\n",
    "tfidf_matrix = vectorizer.fit_transform(X)\n",
    "\n",
    "# Convert the TF-IDF matrix to a dense matrix\n",
    "dense_tfidf = tfidf_matrix.todense()\n",
    "\n",
    "# Split the data into training and testing sets\n",
    "X_train, X_test, y_train, y_test = train_test_split(dense_tfidf, y, test_size=0.2, random_state=42)\n",
    "\n",
    "# Step 5: Build the Bidirectional LSTM model\n",
    "model = Sequential()\n",
    "model.add(Input(shape=(X_train.shape[1],)))  # Input layer\n",
    "model.add(Dense(128, activation='relu'))  # Dense layer as an alternative to embedding\n",
    "model.add(Dense(64, activation='relu'))  # Additional Dense layer\n",
    "model.add(Dense(1, activation='sigmoid'))  # Output layer for binary classification\n",
    "\n",
    "# Step 6: Compile the model\n",
    "model.compile(optimizer='adam', loss='binary_crossentropy', metrics=['accuracy'])\n",
    "\n",
    "# Step 7: Train the model\n",
    "history = model.fit(X_train, y_train, epochs=10, batch_size=32, validation_data=(X_test, y_test))\n",
    "\n",
    "# Evaluate the model\n",
    "loss, accuracy = model.evaluate(X_test, y_test)\n",
    "print(f'Test Accuracy: {accuracy}')"
   ]
  },
  {
   "cell_type": "code",
   "execution_count": 17,
   "metadata": {},
   "outputs": [
    {
     "data": {
      "text/plain": [
       "(numpy.ndarray, numpy.matrix)"
      ]
     },
     "execution_count": 17,
     "metadata": {},
     "output_type": "execute_result"
    }
   ],
   "source": [
    "type(tfidf_matrix.toarray()), type(tfidf_matrix.todense())"
   ]
  },
  {
   "cell_type": "code",
   "execution_count": 6,
   "metadata": {},
   "outputs": [
    {
     "data": {
      "text/plain": [
       "(3270, 5000)"
      ]
     },
     "execution_count": 6,
     "metadata": {},
     "output_type": "execute_result"
    }
   ],
   "source": [
    "dense_tfidf.shape"
   ]
  },
  {
   "cell_type": "code",
   "execution_count": 9,
   "metadata": {},
   "outputs": [
    {
     "data": {
      "text/plain": [
       "matrix([[0., 0., 0., ..., 0., 0., 0.]])"
      ]
     },
     "execution_count": 9,
     "metadata": {},
     "output_type": "execute_result"
    }
   ],
   "source": [
    "dense_tfidf[0]"
   ]
  },
  {
   "cell_type": "code",
   "execution_count": 5,
   "metadata": {},
   "outputs": [
    {
     "data": {
      "text/plain": [
       "((2616, 5000), 5000)"
      ]
     },
     "execution_count": 5,
     "metadata": {},
     "output_type": "execute_result"
    }
   ],
   "source": [
    "X_train.shape, X_train.shape[1]"
   ]
  }
 ],
 "metadata": {
  "kernelspec": {
   "display_name": "py310",
   "language": "python",
   "name": "python3"
  },
  "language_info": {
   "codemirror_mode": {
    "name": "ipython",
    "version": 3
   },
   "file_extension": ".py",
   "mimetype": "text/x-python",
   "name": "python",
   "nbconvert_exporter": "python",
   "pygments_lexer": "ipython3",
   "version": "3.10.13"
  }
 },
 "nbformat": 4,
 "nbformat_minor": 2
}
