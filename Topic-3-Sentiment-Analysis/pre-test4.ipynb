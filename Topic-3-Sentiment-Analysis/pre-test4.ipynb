{
 "cells": [
  {
   "cell_type": "code",
   "execution_count": 2,
   "metadata": {},
   "outputs": [
    {
     "name": "stderr",
     "output_type": "stream",
     "text": [
      "[nltk_data] Downloading package stopwords to\n",
      "[nltk_data]     C:\\Users\\HUYNGUYEN\\AppData\\Roaming\\nltk_data...\n",
      "[nltk_data]   Package stopwords is already up-to-date!\n",
      "[nltk_data] Downloading package wordnet to\n",
      "[nltk_data]     C:\\Users\\HUYNGUYEN\\AppData\\Roaming\\nltk_data...\n",
      "[nltk_data]   Package wordnet is already up-to-date!\n"
     ]
    },
    {
     "name": "stdout",
     "output_type": "stream",
     "text": [
      "\n",
      "First padded sequence (training data):\n",
      "[   5  509 1595 1002 4213  527 1053 4781  692  228  416 1595   42    1\n",
      "   64  134  329  620  642  236  165  781  377  178   94   38  244    5\n",
      " 1843  144 6366 1595  679  608   58   68  251 1595  506    5    1 1660\n",
      "   73    0    0    0    0    0    0    0    0    0    0    0    0    0\n",
      "    0    0    0    0    0    0    0    0    0    0    0    0    0    0\n",
      "    0    0    0    0    0    0    0    0    0    0    0    0    0    0\n",
      "    0    0    0    0    0    0    0    0    0    0    0    0    0    0\n",
      "    0    0]\n",
      "Epoch 1/5\n",
      "82/82 [==============================] - 2s 18ms/step - loss: -0.3752 - accuracy: 0.5204 - val_loss: -2.7663 - val_accuracy: 0.5229\n",
      "Epoch 2/5\n",
      "82/82 [==============================] - 1s 15ms/step - loss: -5.3737 - accuracy: 0.5459 - val_loss: -6.5713 - val_accuracy: 0.5229\n",
      "Epoch 3/5\n",
      "82/82 [==============================] - 1s 15ms/step - loss: -6.5194 - accuracy: 0.5459 - val_loss: -6.8713 - val_accuracy: 0.5229\n",
      "Epoch 4/5\n",
      "82/82 [==============================] - 1s 16ms/step - loss: -6.7501 - accuracy: 0.5459 - val_loss: -6.9668 - val_accuracy: 0.5229\n",
      "Epoch 5/5\n",
      "82/82 [==============================] - 1s 16ms/step - loss: -6.8592 - accuracy: 0.5459 - val_loss: -7.0051 - val_accuracy: 0.5229\n"
     ]
    }
   ],
   "source": [
    "import pandas as pd\n",
    "import re\n",
    "import nltk\n",
    "from nltk.corpus import stopwords\n",
    "from nltk.stem import WordNetLemmatizer\n",
    "from sklearn.model_selection import train_test_split\n",
    "from tensorflow.keras.preprocessing.text import Tokenizer\n",
    "from tensorflow.keras.preprocessing.sequence import pad_sequences\n",
    "\n",
    "# Download necessary NLTK data\n",
    "nltk.download('stopwords')\n",
    "nltk.download('wordnet')\n",
    "\n",
    "# Load training data from file\n",
    "def preprocess_data_from_file(filepath):\n",
    "    with open(filepath, 'r') as file:\n",
    "        data = file.read()\n",
    "    lines = data.strip().split('\\n')\n",
    "    labels = []\n",
    "    texts = []\n",
    "    for line in lines:\n",
    "        label, text = line.split(' ', 1)\n",
    "        label = int(label.split('__label__')[1])\n",
    "        labels.append(label)\n",
    "        texts.append(text)\n",
    "    return pd.DataFrame({'label': labels, 'text': texts})\n",
    "\n",
    "train_filepath = 'train.3270.txt'\n",
    "df_train = preprocess_data_from_file(train_filepath)\n",
    "\n",
    "# Initialize stop words and lemmatizer\n",
    "stop_words = set(stopwords.words('english'))\n",
    "lemmatizer = WordNetLemmatizer()\n",
    "\n",
    "def preprocess_text(text):\n",
    "    # Lowercase\n",
    "    text = text.lower()\n",
    "    \n",
    "    # Remove punctuation and special characters\n",
    "    text = re.sub(r'[\\W_]+', ' ', text)\n",
    "    \n",
    "    # Tokenize and remove stop words\n",
    "    tokens = text.split()\n",
    "    tokens = [word for word in tokens if word not in stop_words]\n",
    "\n",
    "    # Lemmatize\n",
    "    tokens = [lemmatizer.lemmatize(word) for word in tokens]\n",
    "    \n",
    "    return ' '.join(tokens)\n",
    "\n",
    "# Apply preprocessing to the text data\n",
    "df_train['text'] = df_train['text'].apply(preprocess_text)\n",
    "\n",
    "# Split data into features and labels\n",
    "X = df_train['text']\n",
    "y = df_train['label']\n",
    "\n",
    "# Split into training and validation sets\n",
    "X_train, X_val, y_train, y_val = train_test_split(X, y, test_size=0.2, random_state=42)\n",
    "\n",
    "# Tokenize and pad sequences\n",
    "max_vocab_size = 20000\n",
    "max_sequence_length = 100\n",
    "\n",
    "tokenizer = Tokenizer(num_words=max_vocab_size)\n",
    "tokenizer.fit_on_texts(X)\n",
    "\n",
    "# Convert text to sequences of integers\n",
    "X_train_sequences = tokenizer.texts_to_sequences(X_train)\n",
    "X_val_sequences = tokenizer.texts_to_sequences(X_val)\n",
    "\n",
    "# Pad sequences\n",
    "X_train_padded = pad_sequences(X_train_sequences, maxlen=max_sequence_length, padding='post')\n",
    "X_val_padded = pad_sequences(X_val_sequences, maxlen=max_sequence_length, padding='post')\n",
    "\n",
    "# Print the first padded sequence to check\n",
    "print(\"\\nFirst padded sequence (training data):\")\n",
    "print(X_train_padded[0])\n",
    "\n",
    "# Build and train a simple neural network model\n",
    "from tensorflow.keras.models import Sequential\n",
    "from tensorflow.keras.layers import Embedding, LSTM, Dense, Dropout\n",
    "\n",
    "# Define the model\n",
    "model = Sequential([\n",
    "    Embedding(input_dim=max_vocab_size, output_dim=128, input_length=max_sequence_length),\n",
    "    Dense(64, activation='relu'),\n",
    "    Dropout(0.5),\n",
    "    Dense(1, activation='sigmoid')\n",
    "])\n",
    "\n",
    "# Compile the model\n",
    "model.compile(optimizer='adam', loss='binary_crossentropy', metrics=['accuracy'])\n",
    "\n",
    "# Train the model\n",
    "model.fit(X_train_padded, y_train, epochs=5, batch_size=32, validation_data=(X_val_padded, y_val))\n",
    "\n",
    "# Function to preprocess and predict sentiment for new texts\n",
    "def preprocess_and_predict(texts, model, tokenizer, max_sequence_length):\n",
    "    texts = [preprocess_text(text) for text in texts]\n",
    "    sequences = tokenizer.texts_to_sequences(texts)\n",
    "    padded_sequences = pad_sequences(sequences, maxlen=max_sequence_length, padding='post')\n",
    "    predictions = model.predict(padded_sequences)\n",
    "    return predictions\n",
    "\n",
    "# Load test data\n",
    "test_filepath = 'test.135.txt'\n",
    "df_test = preprocess_data_from_file(test_filepath)\n",
    "df_test['text'] = df_test['text'].apply(preprocess_text)\n",
    "X_test = df_test['text']\n",
    "y_test = df_test['label']"
   ]
  },
  {
   "cell_type": "code",
   "execution_count": 3,
   "metadata": {},
   "outputs": [
    {
     "name": "stdout",
     "output_type": "stream",
     "text": [
      "21/21 [==============================] - 0s 150us/step - loss: 0.0000e+00 - accuracy: 0.0000e+00\n"
     ]
    },
    {
     "data": {
      "text/plain": [
       "[0.0, 0.0]"
      ]
     },
     "execution_count": 3,
     "metadata": {},
     "output_type": "execute_result"
    }
   ],
   "source": [
    "model.evaluate(X_val_padded)"
   ]
  }
 ],
 "metadata": {
  "kernelspec": {
   "display_name": "py310",
   "language": "python",
   "name": "python3"
  },
  "language_info": {
   "codemirror_mode": {
    "name": "ipython",
    "version": 3
   },
   "file_extension": ".py",
   "mimetype": "text/x-python",
   "name": "python",
   "nbconvert_exporter": "python",
   "pygments_lexer": "ipython3",
   "version": "3.10.13"
  }
 },
 "nbformat": 4,
 "nbformat_minor": 2
}
