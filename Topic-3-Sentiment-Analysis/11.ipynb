{
 "cells": [
  {
   "cell_type": "code",
   "execution_count": 1,
   "id": "8229fba6",
   "metadata": {
    "_cell_guid": "b1076dfc-b9ad-4769-8c92-a6c4dae69d19",
    "_uuid": "8f2839f25d086af736a60e9eeb907d3b93b6e0e5",
    "execution": {
     "iopub.execute_input": "2024-06-25T10:21:00.682844Z",
     "iopub.status.busy": "2024-06-25T10:21:00.682067Z",
     "iopub.status.idle": "2024-06-25T10:21:00.695137Z",
     "shell.execute_reply": "2024-06-25T10:21:00.694029Z"
    },
    "papermill": {
     "duration": 0.028042,
     "end_time": "2024-06-25T10:21:00.697677",
     "exception": false,
     "start_time": "2024-06-25T10:21:00.669635",
     "status": "completed"
    },
    "tags": []
   },
   "outputs": [],
   "source": [
    "import warnings\n",
    "warnings.filterwarnings('ignore')"
   ]
  },
  {
   "cell_type": "code",
   "execution_count": 2,
   "id": "0fd4db04",
   "metadata": {
    "execution": {
     "iopub.execute_input": "2024-06-25T10:21:00.720186Z",
     "iopub.status.busy": "2024-06-25T10:21:00.719809Z",
     "iopub.status.idle": "2024-06-25T10:21:16.066755Z",
     "shell.execute_reply": "2024-06-25T10:21:16.065747Z"
    },
    "papermill": {
     "duration": 15.361126,
     "end_time": "2024-06-25T10:21:16.069523",
     "exception": false,
     "start_time": "2024-06-25T10:21:00.708397",
     "status": "completed"
    },
    "tags": []
   },
   "outputs": [],
   "source": [
    "import numpy as np\n",
    "import bz2\n",
    "import re\n",
    "import gc\n",
    "import tensorflow as tf\n",
    "import collections\n",
    "from sklearn.model_selection import train_test_split\n",
    "from sklearn.metrics import accuracy_score, f1_score, roc_auc_score, confusion_matrix, roc_curve, auc, precision_score, recall_score\n",
    "import matplotlib.pyplot as plt\n",
    "import seaborn as sns"
   ]
  },
  {
   "cell_type": "code",
   "execution_count": 3,
   "id": "f9b1553d",
   "metadata": {
    "execution": {
     "iopub.execute_input": "2024-06-25T10:21:16.092177Z",
     "iopub.status.busy": "2024-06-25T10:21:16.091520Z",
     "iopub.status.idle": "2024-06-25T10:21:16.098656Z",
     "shell.execute_reply": "2024-06-25T10:21:16.097534Z"
    },
    "papermill": {
     "duration": 0.020853,
     "end_time": "2024-06-25T10:21:16.100899",
     "exception": false,
     "start_time": "2024-06-25T10:21:16.080046",
     "status": "completed"
    },
    "tags": []
   },
   "outputs": [],
   "source": [
    "# Function to assign labels and comments\n",
    "def assign_labels_and_comments(file):\n",
    "    labels = []\n",
    "    comments = []\n",
    "    for line in bz2.BZ2File(file):\n",
    "        x = line.decode(\"utf-8\")\n",
    "        labels.append(int(x[9]) - 1)\n",
    "        comments.append(x[10:].strip())\n",
    "    return np.array(labels), comments"
   ]
  },
  {
   "cell_type": "code",
   "execution_count": 3,
   "id": "9c59feeb",
   "metadata": {},
   "outputs": [],
   "source": [
    "import pandas as pd\n",
    "def get_data_from_file(filepath):\n",
    "    labels = []\n",
    "    texts = []\n",
    "    with open(file=filepath, mode='r', encoding='utf-8') as file:\n",
    "        for line in file.readlines():\n",
    "            #       012345678901\n",
    "            # line: __label__2 Stuning even for the non-gamer...\n",
    "            labels.append(int(line[9]))\n",
    "            texts.append(line[11:].strip())\n",
    "    \n",
    "    df = pd.DataFrame({'label': labels, 'text': texts})\n",
    "    return df\n",
    "\n",
    "# Load train data file\n",
    "train_filepath = 'train.3270.txt'\n",
    "df_train = get_data_from_file(train_filepath)\n",
    "\n",
    "# Load test data file\n",
    "test_filepath = 'test.135.txt'\n",
    "df_test = get_data_from_file(test_filepath)"
   ]
  },
  {
   "cell_type": "code",
   "execution_count": 6,
   "id": "892d2d80",
   "metadata": {
    "execution": {
     "iopub.execute_input": "2024-06-25T10:21:16.122579Z",
     "iopub.status.busy": "2024-06-25T10:21:16.122195Z",
     "iopub.status.idle": "2024-06-25T10:24:06.431983Z",
     "shell.execute_reply": "2024-06-25T10:24:06.430778Z"
    },
    "papermill": {
     "duration": 170.334128,
     "end_time": "2024-06-25T10:24:06.445005",
     "exception": false,
     "start_time": "2024-06-25T10:21:16.110877",
     "status": "completed"
    },
    "tags": []
   },
   "outputs": [
    {
     "name": "stdout",
     "output_type": "stream",
     "text": [
      "First 5 training comments and labels:\n",
      "Label: 2, Comment: Stuning even for the non-gamer: This sound track was beautiful! It paints the senery in your mind so well I would recomend it even to people who hate vid. game music! I have played the game Chrono Cross but out of all of the games I have ever played it has the best music! It backs away from crude keyboarding and takes a fresher step with grate guitars and soulful orchestras. It would impress anyone who cares to listen! ^_^\n",
      "Label: 2, Comment: The best soundtrack ever to anything.: I'm reading a lot of reviews saying that this is the best 'game soundtrack' and I figured that I'd write a review to disagree a bit. This in my opinino is Yasunori Mitsuda's ultimate masterpiece. The music is timeless and I'm been listening to it for years now and its beauty simply refuses to fade.The price tag on this is pretty staggering I must say, but if you are going to buy any cd for this much money, this is the only one that I feel would be worth every penny.\n",
      "Label: 2, Comment: Amazing!: This soundtrack is my favorite music of all time, hands down. The intense sadness of \"Prisoners of Fate\" (which means all the more if you've played the game) and the hope in \"A Distant Promise\" and \"Girl who Stole the Star\" have been an important inspiration to me personally throughout my teen years. The higher energy tracks like \"Chrono Cross ~ Time's Scar~\", \"Time of the Dreamwatch\", and \"Chronomantique\" (indefinably remeniscent of Chrono Trigger) are all absolutely superb as well.This soundtrack is amazing music, probably the best of this composer's work (I haven't heard the Xenogears soundtrack, so I can't say for sure), and even if you've never played the game, it would be worth twice the price to buy it.I wish I could give it 6 stars.\n",
      "Label: 2, Comment: Excellent Soundtrack: I truly like this soundtrack and I enjoy video game music. I have played this game and most of the music on here I enjoy and it's truly relaxing and peaceful.On disk one. my favorites are Scars Of Time, Between Life and Death, Forest Of Illusion, Fortress of Ancient Dragons, Lost Fragment, and Drowned Valley.Disk Two: The Draggons, Galdorb - Home, Chronomantique, Prisoners of Fate, Gale, and my girlfriend likes ZelbessDisk Three: The best of the three. Garden Of God, Chronopolis, Fates, Jellyfish sea, Burning Orphange, Dragon's Prayer, Tower Of Stars, Dragon God, and Radical Dreamers - Unstealable Jewel.Overall, this is a excellent soundtrack and should be brought by those that like video game music.Xander Cross\n",
      "Label: 2, Comment: Remember, Pull Your Jaw Off The Floor After Hearing it: If you've played the game, you know how divine the music is! Every single song tells a story of the game, it's that good! The greatest songs are without a doubt, Chrono Cross: Time's Scar, Magical Dreamers: The Wind, The Stars, and the Sea and Radical Dreamers: Unstolen Jewel. (Translation varies) This music is perfect if you ask me, the best it can be. Yasunori Mitsuda just poured his heart on and wrote it down on paper.\n"
     ]
    }
   ],
   "source": [
    "# Load and preprocess data\n",
    "# test_labels, test_comments = assign_labels_and_comments('/kaggle/input/amazonreviews/test.ft.txt.bz2')\n",
    "# train_labels, train_comments = assign_labels_and_comments('/kaggle/input/amazonreviews/train.ft.txt.bz2')\n",
    "test_labels = df_test['label'].to_numpy()\n",
    "test_comments = df_test['text'].to_list()\n",
    "\n",
    "train_labels = df_train['label'].to_numpy()\n",
    "train_comments = df_train['text'].to_list()\n",
    "\n",
    "\n",
    "\n",
    "# Print the first 5 lines of the data\n",
    "print(\"First 5 training comments and labels:\")\n",
    "for i in range(5):\n",
    "    print(f\"Label: {train_labels[i]}, Comment: {train_comments[i]}\")"
   ]
  },
  {
   "cell_type": "code",
   "execution_count": 7,
   "id": "aa8c952a",
   "metadata": {
    "execution": {
     "iopub.execute_input": "2024-06-25T10:24:06.467230Z",
     "iopub.status.busy": "2024-06-25T10:24:06.466824Z",
     "iopub.status.idle": "2024-06-25T10:24:06.472193Z",
     "shell.execute_reply": "2024-06-25T10:24:06.471169Z"
    },
    "papermill": {
     "duration": 0.019285,
     "end_time": "2024-06-25T10:24:06.474529",
     "exception": false,
     "start_time": "2024-06-25T10:24:06.455244",
     "status": "completed"
    },
    "tags": []
   },
   "outputs": [],
   "source": [
    "# Regular expressions for text cleaning\n",
    "not_alphanumeric = re.compile(r'[\\W]')\n",
    "not_ascii = re.compile(r'[^a-z0-1\\s]')"
   ]
  },
  {
   "cell_type": "code",
   "execution_count": 8,
   "id": "02e82e30",
   "metadata": {
    "execution": {
     "iopub.execute_input": "2024-06-25T10:24:06.497005Z",
     "iopub.status.busy": "2024-06-25T10:24:06.496578Z",
     "iopub.status.idle": "2024-06-25T10:24:06.502520Z",
     "shell.execute_reply": "2024-06-25T10:24:06.501530Z"
    },
    "papermill": {
     "duration": 0.019936,
     "end_time": "2024-06-25T10:24:06.504857",
     "exception": false,
     "start_time": "2024-06-25T10:24:06.484921",
     "status": "completed"
    },
    "tags": []
   },
   "outputs": [],
   "source": [
    "# Function to preprocess comments\n",
    "def processed_comments(texts):\n",
    "    processed_comments = []\n",
    "    for text in texts:\n",
    "        lower = text.lower()\n",
    "        no_punctuation = not_alphanumeric.sub(r' ', lower)\n",
    "        no_non_ascii = not_ascii.sub(r'', no_punctuation)\n",
    "        processed_comments.append(no_non_ascii)\n",
    "    return processed_comments"
   ]
  },
  {
   "cell_type": "code",
   "execution_count": 9,
   "id": "4cef4a8d",
   "metadata": {
    "execution": {
     "iopub.execute_input": "2024-06-25T10:24:06.528172Z",
     "iopub.status.busy": "2024-06-25T10:24:06.526872Z",
     "iopub.status.idle": "2024-06-25T10:27:28.336266Z",
     "shell.execute_reply": "2024-06-25T10:27:28.335161Z"
    },
    "papermill": {
     "duration": 201.833686,
     "end_time": "2024-06-25T10:27:28.348920",
     "exception": false,
     "start_time": "2024-06-25T10:24:06.515234",
     "status": "completed"
    },
    "tags": []
   },
   "outputs": [
    {
     "name": "stdout",
     "output_type": "stream",
     "text": [
      "\n",
      "First 5 preprocessed training comments:\n",
      "Comment: stuning even for the non gamer  this sound track was beautiful  it paints the senery in your mind so well i would recomend it even to people who hate vid  game music  i have played the game chrono cross but out of all of the games i have ever played it has the best music  it backs away from crude keyboarding and takes a fresher step with grate guitars and soulful orchestras  it would impress anyone who cares to listen    \n",
      "Comment: the best soundtrack ever to anything   i m reading a lot of reviews saying that this is the best  game soundtrack  and i figured that i d write a review to disagree a bit  this in my opinino is yasunori mitsuda s ultimate masterpiece  the music is timeless and i m been listening to it for years now and its beauty simply refuses to fade the price tag on this is pretty staggering i must say  but if you are going to buy any cd for this much money  this is the only one that i feel would be worth every penny \n",
      "Comment: amazing   this soundtrack is my favorite music of all time  hands down  the intense sadness of  prisoners of fate   which means all the more if you ve played the game  and the hope in  a distant promise  and  girl who stole the star  have been an important inspiration to me personally throughout my teen years  the higher energy tracks like  chrono cross   time s scar     time of the dreamwatch   and  chronomantique   indefinably remeniscent of chrono trigger  are all absolutely superb as well this soundtrack is amazing music  probably the best of this composer s work  i haven t heard the xenogears soundtrack  so i can t say for sure   and even if you ve never played the game  it would be worth twice the price to buy it i wish i could give it  stars \n",
      "Comment: excellent soundtrack  i truly like this soundtrack and i enjoy video game music  i have played this game and most of the music on here i enjoy and it s truly relaxing and peaceful on disk one  my favorites are scars of time  between life and death  forest of illusion  fortress of ancient dragons  lost fragment  and drowned valley disk two  the draggons  galdorb   home  chronomantique  prisoners of fate  gale  and my girlfriend likes zelbessdisk three  the best of the three  garden of god  chronopolis  fates  jellyfish sea  burning orphange  dragon s prayer  tower of stars  dragon god  and radical dreamers   unstealable jewel overall  this is a excellent soundtrack and should be brought by those that like video game music xander cross\n",
      "Comment: remember  pull your jaw off the floor after hearing it  if you ve played the game  you know how divine the music is  every single song tells a story of the game  it s that good  the greatest songs are without a doubt  chrono cross  time s scar  magical dreamers  the wind  the stars  and the sea and radical dreamers  unstolen jewel   translation varies  this music is perfect if you ask me  the best it can be  yasunori mitsuda just poured his heart on and wrote it down on paper \n"
     ]
    }
   ],
   "source": [
    "# Apply preprocessing\n",
    "train_comments = processed_comments(train_comments)\n",
    "test_comments = processed_comments(test_comments)\n",
    "\n",
    "# Print the first 5 lines of the preprocessed data\n",
    "print(\"\\nFirst 5 preprocessed training comments:\")\n",
    "for i in range(5):\n",
    "    print(f\"Comment: {train_comments[i]}\")"
   ]
  },
  {
   "cell_type": "code",
   "execution_count": 10,
   "id": "9af9ece1",
   "metadata": {
    "execution": {
     "iopub.execute_input": "2024-06-25T10:27:28.371669Z",
     "iopub.status.busy": "2024-06-25T10:27:28.370723Z",
     "iopub.status.idle": "2024-06-25T10:27:30.479681Z",
     "shell.execute_reply": "2024-06-25T10:27:30.478655Z"
    },
    "papermill": {
     "duration": 2.123399,
     "end_time": "2024-06-25T10:27:30.482542",
     "exception": false,
     "start_time": "2024-06-25T10:27:28.359143",
     "status": "completed"
    },
    "tags": []
   },
   "outputs": [],
   "source": [
    "# Split data into training and validation sets\n",
    "train_comments, val_comments, train_labels, val_labels = train_test_split(train_comments, train_labels, random_state=42, test_size=0.2)"
   ]
  },
  {
   "cell_type": "code",
   "execution_count": 11,
   "id": "0568fabf",
   "metadata": {
    "execution": {
     "iopub.execute_input": "2024-06-25T10:27:30.507163Z",
     "iopub.status.busy": "2024-06-25T10:27:30.506756Z",
     "iopub.status.idle": "2024-06-25T10:31:52.665164Z",
     "shell.execute_reply": "2024-06-25T10:31:52.664189Z"
    },
    "papermill": {
     "duration": 262.173726,
     "end_time": "2024-06-25T10:31:52.668167",
     "exception": false,
     "start_time": "2024-06-25T10:27:30.494441",
     "status": "completed"
    },
    "tags": []
   },
   "outputs": [],
   "source": [
    "# Build vocabulary\n",
    "def build_vocab(texts, max_features):\n",
    "    counter = collections.Counter() # Đếm tần suất xuất hiện của mỗi từ trong văn bản\n",
    "    for text in texts:\n",
    "        counter.update(text.split()) # Cập nhật bộ đếm với các từ trong văn bản\n",
    "    vocab = {word: i+1 for i, (word, _) in enumerate(counter.most_common(max_features - 1))}\n",
    "    vocab['<UNK>'] = max_features  # Assign the last index to the unknown token\n",
    "    return vocab\n",
    "\n",
    "# Tokenize text to sequences\n",
    "# Biến đổi văn bản thành các chuỗi chỉ số dựa trên từ vựng\n",
    "def text_to_sequence(texts, vocab):\n",
    "    sequences = []\n",
    "    # Mỗi từ trong văn bản được chuyển đổi thành chỉ số của nó từ từ điển vocab.\n",
    "    # Nếu từ không có trong từ điển, chỉ số của <UNK> được sử dụng\n",
    "    for text in texts:\n",
    "        sequences.append([vocab.get(word, vocab['<UNK>']) for word in text.split()])\n",
    "    return sequences\n",
    "\n",
    "# Pad sequences\n",
    "# Đệm các chuỗi để có chiều dài cố định maxlen\n",
    "def pad_sequences(sequences, maxlen):\n",
    "    padded_sequences = np.zeros((len(sequences), maxlen), dtype=int)\n",
    "    for i, seq in enumerate(sequences):\n",
    "        # Nếu chuỗi dài hơn maxlen, cắt bớt nó.\n",
    "        if len(seq) > maxlen:\n",
    "            padded_sequences[i] = seq[:maxlen]\n",
    "        # Nếu chuỗi ngắn hơn, đệm các phần tử từ bên trái bằng số 0.\n",
    "        elif len(seq) > 0:  # Ensure non-empty sequences\n",
    "            padded_sequences[i, -len(seq):] = seq\n",
    "    return padded_sequences\n",
    "\n",
    "# Maximum features\n",
    "# Đặt giới hạn tối đa là 14,000 từ cho từ vựng.\n",
    "maximum_features = 14000\n",
    "\n",
    "# Build vocabulary\n",
    "vocab = build_vocab(train_comments, maximum_features)\n",
    "\n",
    "# Tokenize text to sequences\n",
    "train_comments_seq = text_to_sequence(train_comments, vocab)\n",
    "val_comments_seq = text_to_sequence(val_comments, vocab)\n",
    "test_comments_seq = text_to_sequence(test_comments, vocab)\n",
    "\n",
    "# Remove empty sequences and corresponding labels, after remove it only exists not empty sequences\n",
    "train_comments_seq, train_labels = zip(*[(seq, label) for seq, label in zip(train_comments_seq, train_labels) if len(seq) > 0])\n",
    "val_comments_seq, val_labels = zip(*[(seq, label) for seq, label in zip(val_comments_seq, val_labels) if len(seq) > 0])\n",
    "test_comments_seq, test_labels = zip(*[(seq, label) for seq, label in zip(test_comments_seq, test_labels) if len(seq) > 0])\n",
    "\n",
    "# Convert from tuple to lists\n",
    "train_comments_seq = list(train_comments_seq)\n",
    "val_comments_seq = list(val_comments_seq)\n",
    "test_comments_seq = list(test_comments_seq)\n",
    "train_labels = list(train_labels)\n",
    "val_labels = list(val_labels)\n",
    "test_labels = list(test_labels)\n",
    "\n",
    "# Find maximum sequence length\n",
    "maximum_length = max(max(len(seq) for seq in train_comments_seq),\n",
    "                     max(len(seq) for seq in val_comments_seq),\n",
    "                     max(len(seq) for seq in test_comments_seq))\n",
    "\n",
    "# Pad sequences\n",
    "train_comments_pad = pad_sequences(train_comments_seq, maximum_length)\n",
    "val_comments_pad = pad_sequences(val_comments_seq, maximum_length)\n",
    "test_comments_pad = pad_sequences(test_comments_seq, maximum_length)\n"
   ]
  },
  {
   "cell_type": "code",
   "execution_count": 12,
   "id": "6971507c",
   "metadata": {
    "execution": {
     "iopub.execute_input": "2024-06-25T10:31:52.691342Z",
     "iopub.status.busy": "2024-06-25T10:31:52.690944Z",
     "iopub.status.idle": "2024-06-25T10:32:21.620958Z",
     "shell.execute_reply": "2024-06-25T10:32:21.619843Z"
    },
    "papermill": {
     "duration": 28.944617,
     "end_time": "2024-06-25T10:32:21.623724",
     "exception": false,
     "start_time": "2024-06-25T10:31:52.679107",
     "status": "completed"
    },
    "tags": []
   },
   "outputs": [],
   "source": [
    "# Create TensorFlow datasets\n",
    "train_dataset = tf.data.Dataset.from_tensor_slices((train_comments_pad, train_labels)).batch(128)\n",
    "val_dataset = tf.data.Dataset.from_tensor_slices((val_comments_pad, val_labels)).batch(128)\n",
    "test_dataset = tf.data.Dataset.from_tensor_slices((test_comments_pad, test_labels)).batch(128)"
   ]
  },
  {
   "cell_type": "code",
   "execution_count": 13,
   "id": "753019ba",
   "metadata": {
    "execution": {
     "iopub.execute_input": "2024-06-25T10:32:21.646774Z",
     "iopub.status.busy": "2024-06-25T10:32:21.646340Z",
     "iopub.status.idle": "2024-06-25T10:32:22.119423Z",
     "shell.execute_reply": "2024-06-25T10:32:22.118228Z"
    },
    "papermill": {
     "duration": 0.487784,
     "end_time": "2024-06-25T10:32:22.122260",
     "exception": false,
     "start_time": "2024-06-25T10:32:21.634476",
     "status": "completed"
    },
    "tags": []
   },
   "outputs": [
    {
     "name": "stdout",
     "output_type": "stream",
     "text": [
      "2616\n",
      "2616\n",
      "654\n",
      "654\n",
      "135\n",
      "135\n"
     ]
    }
   ],
   "source": [
    "# Convert labels to numpy arrays\n",
    "train_labels = np.array(train_labels)\n",
    "val_labels = np.array(val_labels)\n",
    "test_labels = np.array(test_labels)\n",
    "\n",
    "print(train_comments_pad.shape[0])\n",
    "print(train_labels.shape[0])\n",
    "print(val_comments_pad.shape[0])\n",
    "print(val_labels.shape[0])\n",
    "print(test_comments_pad.shape[0])\n",
    "print(test_labels.shape[0])"
   ]
  },
  {
   "cell_type": "code",
   "execution_count": 14,
   "id": "038da2b5",
   "metadata": {
    "execution": {
     "iopub.execute_input": "2024-06-25T10:32:22.145494Z",
     "iopub.status.busy": "2024-06-25T10:32:22.145112Z",
     "iopub.status.idle": "2024-06-25T10:32:22.154342Z",
     "shell.execute_reply": "2024-06-25T10:32:22.153236Z"
    },
    "papermill": {
     "duration": 0.023448,
     "end_time": "2024-06-25T10:32:22.156653",
     "exception": false,
     "start_time": "2024-06-25T10:32:22.133205",
     "status": "completed"
    },
    "tags": []
   },
   "outputs": [],
   "source": [
    "# Define the model\n",
    "class SentimentModel(tf.Module):\n",
    "    def __init__(self, vocab_size, embedding_dim, units):\n",
    "        # Lớp embedding để chuyển đổi các từ thành các vector nhúng\n",
    "        self.embedding = tf.Variable(tf.random.normal([vocab_size, embedding_dim]), name='embedding')\n",
    "        # Lớp dense đầu tiên với kích thước trọng số embedding_dim x units\n",
    "        self.dense_1 = tf.Variable(tf.random.normal([embedding_dim, units]), name='dense_1')\n",
    "        # Lớp dense 2 với kích thước trọng số units x 1\n",
    "        self.dense_2 = tf.Variable(tf.random.normal([units, 1]), name='dense_2')\n",
    "\n",
    "    def __call__(self, x):\n",
    "        x = tf.nn.embedding_lookup(self.embedding, x) # # Tìm các vector nhúng tương ứng với các chỉ số từ.\n",
    "        x = tf.reduce_mean(x, axis=1)  # Average pooling để lấy trung bình của các vector nhúng\n",
    "        x = tf.nn.relu(tf.matmul(x, self.dense_1)) # kích hoạt ReLU cho lớp dense thứ nhất\n",
    "        x = tf.sigmoid(tf.matmul(x, self.dense_2)) # kích hoạt Sigmoid cho lớp đầu ra, dùng cho bài toán phân loại nhị phân\n",
    "        return x\n",
    "    "
   ]
  },
  {
   "cell_type": "code",
   "execution_count": 15,
   "id": "d2501c40",
   "metadata": {
    "execution": {
     "iopub.execute_input": "2024-06-25T10:32:22.179277Z",
     "iopub.status.busy": "2024-06-25T10:32:22.178812Z",
     "iopub.status.idle": "2024-06-25T10:32:22.370701Z",
     "shell.execute_reply": "2024-06-25T10:32:22.369622Z"
    },
    "papermill": {
     "duration": 0.206276,
     "end_time": "2024-06-25T10:32:22.373384",
     "exception": false,
     "start_time": "2024-06-25T10:32:22.167108",
     "status": "completed"
    },
    "tags": []
   },
   "outputs": [],
   "source": [
    "# model = CNNModel()\n",
    "\n",
    "# Hyperparameters\n",
    "vocab_size = maximum_features + 1  # +1 for padding token\n",
    "embedding_dim = 128  # Kích thước của vector nhúng.\n",
    "units = 64  # Số lượng đơn vị trong lớp dense ẩn\n",
    "learning_rate = 0.001  # Tốc độ học cho bộ tối ưu hóa\n",
    "\n",
    "# Initialize model\n",
    "model = SentimentModel(vocab_size, embedding_dim, units)\n"
   ]
  },
  {
   "cell_type": "code",
   "execution_count": 16,
   "id": "8caf8543",
   "metadata": {
    "execution": {
     "iopub.execute_input": "2024-06-25T10:32:22.396943Z",
     "iopub.status.busy": "2024-06-25T10:32:22.395952Z",
     "iopub.status.idle": "2024-06-25T10:32:22.442123Z",
     "shell.execute_reply": "2024-06-25T10:32:22.440975Z"
    },
    "papermill": {
     "duration": 0.060772,
     "end_time": "2024-06-25T10:32:22.444781",
     "exception": false,
     "start_time": "2024-06-25T10:32:22.384009",
     "status": "completed"
    },
    "tags": []
   },
   "outputs": [],
   "source": [
    "# Loss and optimizer\n",
    "loss_object = tf.losses.BinaryCrossentropy(from_logits=False)\n",
    "optimizer = tf.optimizers.Adam(learning_rate)\n"
   ]
  },
  {
   "cell_type": "code",
   "execution_count": 17,
   "id": "ed06ddf6",
   "metadata": {
    "execution": {
     "iopub.execute_input": "2024-06-25T10:32:22.468051Z",
     "iopub.status.busy": "2024-06-25T10:32:22.467270Z",
     "iopub.status.idle": "2024-06-25T10:32:22.493954Z",
     "shell.execute_reply": "2024-06-25T10:32:22.492826Z"
    },
    "papermill": {
     "duration": 0.041105,
     "end_time": "2024-06-25T10:32:22.496649",
     "exception": false,
     "start_time": "2024-06-25T10:32:22.455544",
     "status": "completed"
    },
    "tags": []
   },
   "outputs": [],
   "source": [
    "# Metrics để đo lường trung bình hàm mất mát và độ chính xác nhị phân cho tập huấn luyện và tập xác thực.\n",
    "train_loss = tf.metrics.Mean(name='train_loss')\n",
    "train_accuracy = tf.metrics.BinaryAccuracy(name='train_accuracy')\n",
    "val_loss = tf.metrics.Mean(name='val_loss')\n",
    "val_accuracy = tf.metrics.BinaryAccuracy(name='val_accuracy')\n",
    "\n",
    "# Lists to store loss and accuracy values\n",
    "train_losses = []\n",
    "val_losses = []\n",
    "train_accuracies = []\n",
    "val_accuracies = []"
   ]
  },
  {
   "cell_type": "code",
   "execution_count": 18,
   "id": "c65adcf6",
   "metadata": {
    "execution": {
     "iopub.execute_input": "2024-06-25T10:32:22.519332Z",
     "iopub.status.busy": "2024-06-25T10:32:22.518916Z",
     "iopub.status.idle": "2024-06-25T10:32:22.526993Z",
     "shell.execute_reply": "2024-06-25T10:32:22.525927Z"
    },
    "papermill": {
     "duration": 0.022217,
     "end_time": "2024-06-25T10:32:22.529311",
     "exception": false,
     "start_time": "2024-06-25T10:32:22.507094",
     "status": "completed"
    },
    "tags": []
   },
   "outputs": [],
   "source": [
    "# Training step\n",
    "@tf.function\n",
    "def train_step(inputs, labels):\n",
    "    with tf.GradientTape() as tape:  # theo dõi các gradient cho các biến trong mô hình\n",
    "        predictions = model(inputs)  # tính toán dự đoán từ mô hình\n",
    "        loss = loss_object(labels, predictions)  # tính toán hàm mất mát\n",
    "    gradients = tape.gradient(loss, model.trainable_variables)  # tính toán các gradient\n",
    "    optimizer.apply_gradients(zip(gradients, model.trainable_variables))  # cập nhật các biến mô hình dựa trên gradient\n",
    "\n",
    "    # Cập nhật các chỉ số đo lường\n",
    "    train_loss(loss)\n",
    "    train_accuracy(labels, predictions)"
   ]
  },
  {
   "cell_type": "code",
   "execution_count": 19,
   "id": "89c439aa",
   "metadata": {
    "execution": {
     "iopub.execute_input": "2024-06-25T10:32:22.551560Z",
     "iopub.status.busy": "2024-06-25T10:32:22.551172Z",
     "iopub.status.idle": "2024-06-25T10:32:22.557302Z",
     "shell.execute_reply": "2024-06-25T10:32:22.556149Z"
    },
    "papermill": {
     "duration": 0.01998,
     "end_time": "2024-06-25T10:32:22.559606",
     "exception": false,
     "start_time": "2024-06-25T10:32:22.539626",
     "status": "completed"
    },
    "tags": []
   },
   "outputs": [],
   "source": [
    "# Validation step\n",
    "@tf.function\n",
    "def val_step(inputs, labels):\n",
    "    predictions = model(inputs)\n",
    "    v_loss = loss_object(labels, predictions)\n",
    "\n",
    "    val_loss(v_loss)\n",
    "    val_accuracy(labels, predictions)"
   ]
  },
  {
   "cell_type": "code",
   "execution_count": 20,
   "id": "e8eadece",
   "metadata": {
    "execution": {
     "iopub.execute_input": "2024-06-25T10:32:22.582184Z",
     "iopub.status.busy": "2024-06-25T10:32:22.581243Z",
     "iopub.status.idle": "2024-06-25T10:54:50.684539Z",
     "shell.execute_reply": "2024-06-25T10:54:50.683333Z"
    },
    "papermill": {
     "duration": 1348.129196,
     "end_time": "2024-06-25T10:54:50.698958",
     "exception": false,
     "start_time": "2024-06-25T10:32:22.569762",
     "status": "completed"
    },
    "tags": []
   },
   "outputs": [
    {
     "name": "stdout",
     "output_type": "stream",
     "text": [
      "Epoch 1, Loss: -4.467166423797607, Accuracy: 49.27370071411133, Val Loss: -6.781961917877197, Val Accuracy: 51.529048919677734\n",
      "Epoch 2, Loss: -6.694466590881348, Accuracy: 54.35779571533203, Val Loss: -7.0872955322265625, Val Accuracy: 52.14067077636719\n",
      "Epoch 3, Loss: -6.837071895599365, Accuracy: 54.54893112182617, Val Loss: -7.194677829742432, Val Accuracy: 52.2935791015625\n"
     ]
    }
   ],
   "source": [
    "# Training loop\n",
    "epochs = 3\n",
    "for epoch in range(epochs):\n",
    "    for inputs, labels in train_dataset:\n",
    "        train_step(inputs, labels)\n",
    "\n",
    "    for val_inputs, val_labels in val_dataset:\n",
    "        val_step(val_inputs, val_labels)\n",
    "\n",
    "    # Save the metrics for this epoch\n",
    "    train_losses.append(train_loss.result().numpy())\n",
    "    val_losses.append(val_loss.result().numpy())\n",
    "    train_accuracies.append(train_accuracy.result().numpy())\n",
    "    val_accuracies.append(val_accuracy.result().numpy())\n",
    "    \n",
    "    template = 'Epoch {}, Loss: {}, Accuracy: {}, Val Loss: {}, Val Accuracy: {}'\n",
    "    print(template.format(epoch + 1,\n",
    "                          train_loss.result(),\n",
    "                          train_accuracy.result() * 100,\n",
    "                          val_loss.result(),\n",
    "                          val_accuracy.result() * 100))\n",
    "\n",
    "    # Reset the metrics for the next epoch\n",
    "    train_loss.reset_state()\n",
    "    train_accuracy.reset_state()\n",
    "    val_loss.reset_state()\n",
    "    val_accuracy.reset_state()"
   ]
  },
  {
   "cell_type": "code",
   "execution_count": 21,
   "id": "a9202b91",
   "metadata": {
    "execution": {
     "iopub.execute_input": "2024-06-25T10:54:50.722101Z",
     "iopub.status.busy": "2024-06-25T10:54:50.721664Z",
     "iopub.status.idle": "2024-06-25T10:55:03.843139Z",
     "shell.execute_reply": "2024-06-25T10:55:03.842002Z"
    },
    "papermill": {
     "duration": 13.136541,
     "end_time": "2024-06-25T10:55:03.845964",
     "exception": false,
     "start_time": "2024-06-25T10:54:50.709423",
     "status": "completed"
    },
    "tags": []
   },
   "outputs": [],
   "source": [
    "# Batch prediction to manage memory usage\n",
    "batch_size = 128  # số lượng mẫu được xử lý cùng một lúc\n",
    "test_dataset = tf.data.Dataset.from_tensor_slices(test_comments_pad).batch(batch_size)\n",
    "cnn_preds = []\n",
    "\n",
    "for batch in test_dataset:\n",
    "    preds = model(batch)\n",
    "    cnn_preds.append(preds)\n",
    "\n",
    "cnn_preds = tf.concat(cnn_preds, axis=0)\n",
    "cnn_preds = (cnn_preds.numpy() > 0.5).astype(int)"
   ]
  },
  {
   "cell_type": "code",
   "execution_count": 22,
   "id": "45ca626c",
   "metadata": {
    "execution": {
     "iopub.execute_input": "2024-06-25T10:55:03.870860Z",
     "iopub.status.busy": "2024-06-25T10:55:03.870433Z",
     "iopub.status.idle": "2024-06-25T10:55:04.598876Z",
     "shell.execute_reply": "2024-06-25T10:55:04.597708Z"
    },
    "papermill": {
     "duration": 0.744408,
     "end_time": "2024-06-25T10:55:04.601593",
     "exception": false,
     "start_time": "2024-06-25T10:55:03.857185",
     "status": "completed"
    },
    "tags": []
   },
   "outputs": [],
   "source": [
    "# Calculate evaluation metrics\n",
    "accuracy_cnn = accuracy_score(test_labels, cnn_preds)\n",
    "f1_cnn = f1_score(test_labels, cnn_preds)\n",
    "rocauc_cnn = roc_auc_score(test_labels, cnn_preds)\n",
    "precision_cnn = precision_score(test_labels, cnn_preds)\n",
    "recall_cnn = recall_score(test_labels, cnn_preds)"
   ]
  },
  {
   "cell_type": "code",
   "execution_count": 23,
   "id": "a7e9c07e",
   "metadata": {
    "execution": {
     "iopub.execute_input": "2024-06-25T10:55:04.624989Z",
     "iopub.status.busy": "2024-06-25T10:55:04.624468Z",
     "iopub.status.idle": "2024-06-25T10:55:04.631287Z",
     "shell.execute_reply": "2024-06-25T10:55:04.630230Z"
    },
    "papermill": {
     "duration": 0.021282,
     "end_time": "2024-06-25T10:55:04.633716",
     "exception": false,
     "start_time": "2024-06-25T10:55:04.612434",
     "status": "completed"
    },
    "tags": []
   },
   "outputs": [
    {
     "name": "stdout",
     "output_type": "stream",
     "text": [
      "Accuracy score of the CNN Model: 44.44%\n",
      "F1 score of the CNN Model: 61.54%\n",
      "ROC AUC score of the CNN Model: 50.00%\n",
      "Precision score of the CNN Model: 44.44%\n",
      "Recall score of the CNN Model: 100.00%\n"
     ]
    }
   ],
   "source": [
    "# Print evaluation results\n",
    "# print('Accuracy score of the CNN Model: {:0.3f}'.format(accuracy_cnn))\n",
    "# print('F1 score of the CNN Model: {:0.3f}'.format(f1_cnn))\n",
    "# print('ROC AUC score of the CNN Model: {:0.3f}'.format(rocauc_cnn))\n",
    "\n",
    "print(f'Accuracy score of the CNN Model: {accuracy_cnn * 100:.2f}%')\n",
    "print(f'F1 score of the CNN Model: {f1_cnn * 100:.2f}%')\n",
    "print(f'ROC AUC score of the CNN Model: {rocauc_cnn * 100:.2f}%')\n",
    "print(f'Precision score of the CNN Model: {precision_cnn * 100:.2f}%')\n",
    "print(f'Recall score of the CNN Model: {recall_cnn * 100:.2f}%')"
   ]
  },
  {
   "cell_type": "code",
   "execution_count": 24,
   "id": "74f10467",
   "metadata": {
    "execution": {
     "iopub.execute_input": "2024-06-25T10:55:04.656963Z",
     "iopub.status.busy": "2024-06-25T10:55:04.656534Z",
     "iopub.status.idle": "2024-06-25T10:55:04.950879Z",
     "shell.execute_reply": "2024-06-25T10:55:04.949757Z"
    },
    "papermill": {
     "duration": 0.308878,
     "end_time": "2024-06-25T10:55:04.953349",
     "exception": false,
     "start_time": "2024-06-25T10:55:04.644471",
     "status": "completed"
    },
    "tags": []
   },
   "outputs": [
    {
     "data": {
      "image/png": "[encoded data removed]",
      "text/plain": [
       "<Figure size 1000x600 with 1 Axes>"
      ]
     },
     "metadata": {},
     "output_type": "display_data"
    }
   ],
   "source": [
    "# Vẽ biểu đồ cho các chỉ số đánh giá\n",
    "metrics = ['Accuracy', 'F1 Score', 'ROC AUC', 'Precision', 'Recall']\n",
    "values = [accuracy_cnn, f1_cnn, rocauc_cnn, precision_cnn, recall_cnn]\n",
    "\n",
    "plt.figure(figsize=(10, 6))\n",
    "plt.bar(metrics, values, color=['blue', 'green', 'red', 'purple', 'pink'])\n",
    "plt.xlabel('Metrics')\n",
    "plt.ylabel('Values')\n",
    "plt.title('Evaluation Metrics')\n",
    "for i, value in enumerate(values):\n",
    "    plt.text(i, value + 0.01, f'{value:.2f}', ha='center')\n",
    "plt.ylim(0, 1)\n",
    "plt.show()"
   ]
  },
  {
   "cell_type": "code",
   "execution_count": 25,
   "id": "abd09d23",
   "metadata": {
    "execution": {
     "iopub.execute_input": "2024-06-25T10:55:04.979160Z",
     "iopub.status.busy": "2024-06-25T10:55:04.978720Z",
     "iopub.status.idle": "2024-06-25T10:55:04.983752Z",
     "shell.execute_reply": "2024-06-25T10:55:04.982677Z"
    },
    "papermill": {
     "duration": 0.019935,
     "end_time": "2024-06-25T10:55:04.986124",
     "exception": false,
     "start_time": "2024-06-25T10:55:04.966189",
     "status": "completed"
    },
    "tags": []
   },
   "outputs": [],
   "source": [
    "# Biểu đồ huấn luyện và độ chính xác theo từng epoch trong quá trình huấn luyện\n",
    "epochs_range = range(epochs)\n",
    "\n",
    "# plt.figure(figsize=(14, 7))"
   ]
  },
  {
   "cell_type": "code",
   "execution_count": 26,
   "id": "ec35ea96",
   "metadata": {
    "execution": {
     "iopub.execute_input": "2024-06-25T10:55:05.010650Z",
     "iopub.status.busy": "2024-06-25T10:55:05.010251Z",
     "iopub.status.idle": "2024-06-25T10:55:05.380817Z",
     "shell.execute_reply": "2024-06-25T10:55:05.379770Z"
    },
    "papermill": {
     "duration": 0.386506,
     "end_time": "2024-06-25T10:55:05.383964",
     "exception": false,
     "start_time": "2024-06-25T10:55:04.997458",
     "status": "completed"
    },
    "tags": []
   },
   "outputs": [
    {
     "data": {
      "image/png": "[encoded data removed]",
      "text/plain": [
       "<Figure size 1000x600 with 1 Axes>"
      ]
     },
     "metadata": {},
     "output_type": "display_data"
    }
   ],
   "source": [
    "# Plot Loss\n",
    "# plt.subplot(1, 2, 1)\n",
    "plt.figure(figsize=(10, 6))\n",
    "plt.plot(epochs_range, train_losses, label='Training Loss')\n",
    "plt.plot(epochs_range, val_losses, label='Validation Loss')\n",
    "plt.xlabel('Epochs')\n",
    "plt.ylabel('Loss')\n",
    "plt.title('Training and Validation Loss')\n",
    "plt.legend()\n",
    "plt.show()"
   ]
  },
  {
   "cell_type": "code",
   "execution_count": 27,
   "id": "b68d586f",
   "metadata": {
    "execution": {
     "iopub.execute_input": "2024-06-25T10:55:05.409983Z",
     "iopub.status.busy": "2024-06-25T10:55:05.409569Z",
     "iopub.status.idle": "2024-06-25T10:55:05.709931Z",
     "shell.execute_reply": "2024-06-25T10:55:05.708773Z"
    },
    "papermill": {
     "duration": 0.316343,
     "end_time": "2024-06-25T10:55:05.712598",
     "exception": false,
     "start_time": "2024-06-25T10:55:05.396255",
     "status": "completed"
    },
    "tags": []
   },
   "outputs": [
    {
     "data": {
      "image/png": "[encoded data removed]",
      "text/plain": [
       "<Figure size 1000x600 with 1 Axes>"
      ]
     },
     "metadata": {},
     "output_type": "display_data"
    }
   ],
   "source": [
    "# Plot Accuracy\n",
    "# plt.subplot(1, 2, 2)\n",
    "plt.figure(figsize=(10, 6))\n",
    "plt.plot(epochs_range, train_accuracies, label='Training Accuracy')\n",
    "plt.plot(epochs_range, val_accuracies, label='Validation Accuracy')\n",
    "plt.xlabel('Epochs')\n",
    "plt.ylabel('Accuracy')\n",
    "plt.title('Training and Validation Accuracy')\n",
    "plt.legend()\n",
    "\n",
    "plt.show()"
   ]
  },
  {
   "cell_type": "code",
   "execution_count": 28,
   "id": "185fb365",
   "metadata": {
    "execution": {
     "iopub.execute_input": "2024-06-25T10:55:05.740722Z",
     "iopub.status.busy": "2024-06-25T10:55:05.740316Z",
     "iopub.status.idle": "2024-06-25T10:55:06.122869Z",
     "shell.execute_reply": "2024-06-25T10:55:06.121809Z"
    },
    "papermill": {
     "duration": 0.39968,
     "end_time": "2024-06-25T10:55:06.125687",
     "exception": false,
     "start_time": "2024-06-25T10:55:05.726007",
     "status": "completed"
    },
    "tags": []
   },
   "outputs": [
    {
     "data": {
      "image/png": "[encoded data removed]",
      "text/plain": [
       "<Figure size 1000x700 with 2 Axes>"
      ]
     },
     "metadata": {},
     "output_type": "display_data"
    }
   ],
   "source": [
    "# Plot Confusion Matrix: thể hiện sự phân bố của các dự đoán đúng và sai của mô hình\n",
    "cm = confusion_matrix(test_labels, cnn_preds)  # Tính ma trận nhầm lẫn (Confusion Matrix)\n",
    "\n",
    "plt.figure(figsize=(10, 7))\n",
    "sns.heatmap(cm, annot=True, fmt='d', cmap='Blues', xticklabels=['Negative', 'Positive'], yticklabels=['Negative', 'Positive'])\n",
    "plt.xlabel('Predicted')\n",
    "plt.ylabel('True')\n",
    "plt.title('Confusion Matrix')\n",
    "plt.show()"
   ]
  },
  {
   "cell_type": "code",
   "execution_count": 27,
   "id": "abe9c98e",
   "metadata": {
    "execution": {
     "iopub.execute_input": "2024-06-25T10:55:06.154847Z",
     "iopub.status.busy": "2024-06-25T10:55:06.154404Z",
     "iopub.status.idle": "2024-06-25T10:55:06.448507Z",
     "shell.execute_reply": "2024-06-25T10:55:06.447298Z"
    },
    "papermill": {
     "duration": 0.31129,
     "end_time": "2024-06-25T10:55:06.450985",
     "exception": false,
     "start_time": "2024-06-25T10:55:06.139695",
     "status": "completed"
    },
    "tags": []
   },
   "outputs": [
    {
     "data": {
      "image/png": "[encoded data removed]",
      "text/plain": [
       "<Figure size 1000x700 with 1 Axes>"
      ]
     },
     "metadata": {},
     "output_type": "display_data"
    }
   ],
   "source": [
    "# Plot ROC Curve: giúp đánh giá khả năng phân biệt giữa các lớp của mô hình.\n",
    "# Tính ROC curve\n",
    "fpr, tpr, _ = roc_curve(test_labels, cnn_preds)\n",
    "roc_auc = auc(fpr, tpr)\n",
    "\n",
    "plt.figure(figsize=(10, 7))\n",
    "plt.plot(fpr, tpr, label='ROC curve (area = %0.2f)' % roc_auc)\n",
    "plt.plot([0, 1], [0, 1], 'k--')  # Diagonal line\n",
    "plt.xlim([0.0, 1.0])\n",
    "plt.ylim([0.0, 1.05])\n",
    "plt.xlabel('False Positive Rate')\n",
    "plt.ylabel('True Positive Rate')\n",
    "plt.title('Receiver Operating Characteristic (ROC)')\n",
    "plt.legend(loc='lower right')\n",
    "plt.show()"
   ]
  },
  {
   "cell_type": "code",
   "execution_count": 28,
   "id": "04467a3a",
   "metadata": {
    "execution": {
     "iopub.execute_input": "2024-06-25T10:55:06.482072Z",
     "iopub.status.busy": "2024-06-25T10:55:06.481634Z",
     "iopub.status.idle": "2024-06-25T10:55:06.503573Z",
     "shell.execute_reply": "2024-06-25T10:55:06.502342Z"
    },
    "papermill": {
     "duration": 0.040523,
     "end_time": "2024-06-25T10:55:06.506207",
     "exception": false,
     "start_time": "2024-06-25T10:55:06.465684",
     "status": "completed"
    },
    "tags": []
   },
   "outputs": [
    {
     "name": "stdout",
     "output_type": "stream",
     "text": [
      "The sentiment of the text is: Negative\n",
      "Review: \"This product is great!\" - Sentiment: Positive\n",
      "Review: \"This product is terrible.\" - Sentiment: Negative\n",
      "Review: \"This product is good but it's expensive.\" - Sentiment: Positive\n",
      "Review: \"Absolutely love this!\" - Sentiment: Positive\n",
      "Review: \"Not what I expected.\" - Sentiment: Negative\n"
     ]
    }
   ],
   "source": [
    "\n",
    "\n",
    "# Function to predict sentiment of a given text\n",
    "def predict_sentiment(text):\n",
    "    # Preprocess text\n",
    "    lower = text.lower()\n",
    "    not_alphanumeric = re.compile(r'[\\W]')\n",
    "    not_ascii = re.compile(r'[^a-z0-1\\s]')\n",
    "    no_punctuation = not_alphanumeric.sub(r' ', lower)\n",
    "    no_non_ascii = not_ascii.sub(r'', no_punctuation)\n",
    "    \n",
    "    # Tokenize text\n",
    "    tokens = no_non_ascii.split()\n",
    "    token_ids = [vocab.get(token, vocab['<UNK>']) for token in tokens]\n",
    "    \n",
    "    # Pad sequence\n",
    "    padded_sequence = pad_sequences([token_ids], maximum_length)\n",
    "    \n",
    "    # Convert sequence to tensor\n",
    "    input_tensor = tf.convert_to_tensor(padded_sequence, dtype=tf.int32)\n",
    "    \n",
    "    # Make prediction\n",
    "    prediction = model(input_tensor)\n",
    "    pred = prediction.numpy()[0][0]\n",
    "    \n",
    "    # Return prediction result\n",
    "    return 'Positive' if pred >= 0.5 else 'Negative'\n",
    "\n",
    "# Example usage\n",
    "# text = 'My lovely Pat has one of the GREAT voices of her generation. I have listened to this CD for YEARS and I still LOVE IT. When I am in a good mood it makes me feel better. A bad mood just evaporates like sugar in the rain. This CD just oozes LIFE. Vocals are jusat STUUNNING and lyrics just kill. Why she never made it big is just beyond me. Everytime I play this, no matter black, white, young, old, male, female EVERYBODY says one thing'\n",
    "text = \"I don't like this book\"\n",
    "predicted_sentiment = predict_sentiment(text)\n",
    "print(f'The sentiment of the text is: {predicted_sentiment}')\n",
    "\n",
    "\n",
    "\n",
    "new_reviews = [\n",
    "    \"This product is great!\",\n",
    "    \"This product is terrible.\",\n",
    "    \"This product is good but it's expensive.\",\n",
    "    \"Absolutely love this!\",\n",
    "    \"Not what I expected.\"\n",
    "]\n",
    "\n",
    "for review in new_reviews:\n",
    "    sentiment = predict_sentiment(review)\n",
    "    print(f'Review: \"{review}\" - Sentiment: {sentiment}')\n",
    "\n"
   ]
  },
  {
   "cell_type": "code",
   "execution_count": 29,
   "id": "2615efd3",
   "metadata": {
    "execution": {
     "iopub.execute_input": "2024-06-25T10:55:06.536827Z",
     "iopub.status.busy": "2024-06-25T10:55:06.536413Z",
     "iopub.status.idle": "2024-06-25T10:55:11.175766Z",
     "shell.execute_reply": "2024-06-25T10:55:11.174595Z"
    },
    "papermill": {
     "duration": 4.657702,
     "end_time": "2024-06-25T10:55:11.178339",
     "exception": false,
     "start_time": "2024-06-25T10:55:06.520637",
     "status": "completed"
    },
    "tags": []
   },
   "outputs": [
    {
     "data": {
      "text/plain": [
       "16321"
      ]
     },
     "execution_count": 29,
     "metadata": {},
     "output_type": "execute_result"
    }
   ],
   "source": [
    "# Clean up memory\n",
    "gc.collect()"
   ]
  }
 ],
 "metadata": {
  "kaggle": {
   "accelerator": "none",
   "dataSources": [
    {
     "datasetId": 1305,
     "sourceId": 800230,
     "sourceType": "datasetVersion"
    }
   ],
   "dockerImageVersionId": 30732,
   "isGpuEnabled": false,
   "isInternetEnabled": true,
   "language": "python",
   "sourceType": "notebook"
  },
  "kernelspec": {
   "display_name": "Python 3",
   "language": "python",
   "name": "python3"
  },
  "language_info": {
   "codemirror_mode": {
    "name": "ipython",
    "version": 3
   },
   "file_extension": ".py",
   "mimetype": "text/x-python",
   "name": "python",
   "nbconvert_exporter": "python",
   "pygments_lexer": "ipython3",
   "version": "3.10.13"
  },
  "papermill": {
   "default_parameters": {},
   "duration": 2057.85022,
   "end_time": "2024-06-25T10:55:15.526204",
   "environment_variables": {},
   "exception": null,
   "input_path": "__notebook__.ipynb",
   "output_path": "__notebook__.ipynb",
   "parameters": {},
   "start_time": "2024-06-25T10:20:57.675984",
   "version": "2.5.0"
  }
 },
 "nbformat": 4,
 "nbformat_minor": 5
}
