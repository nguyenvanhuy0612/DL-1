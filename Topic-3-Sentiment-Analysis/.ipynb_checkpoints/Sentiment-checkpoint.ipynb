{
 "cells": [
  {
   "cell_type": "code",
   "execution_count": 1,
   "id": "300f5fcd-0d11-432e-853f-c1c4ac0673fd",
   "metadata": {},
   "outputs": [],
   "source": [
    "test_path_csv = r\"D:\\DL\\test.ft.txt\"\n",
    "train_path_csv = r\"D:\\DL\\train.ft.txt\""
   ]
  },
  {
   "cell_type": "code",
   "execution_count": null,
   "id": "b5e87a60-deed-4f29-a40c-5c6d3b47a8d3",
   "metadata": {},
   "outputs": [],
   "source": []
  }
 ],
 "metadata": {
  "kernelspec": {
   "display_name": "Python 3 (ipykernel)",
   "language": "python",
   "name": "python3"
  },
  "language_info": {
   "codemirror_mode": {
    "name": "ipython",
    "version": 3
   },
   "file_extension": ".py",
   "mimetype": "text/x-python",
   "name": "python",
   "nbconvert_exporter": "python",
   "pygments_lexer": "ipython3",
   "version": "3.12.2"
  }
 },
 "nbformat": 4,
 "nbformat_minor": 5
}
