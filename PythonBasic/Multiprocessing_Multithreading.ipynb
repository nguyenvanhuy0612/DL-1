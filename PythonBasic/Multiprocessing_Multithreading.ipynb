{
 "cells": [
  {
   "cell_type": "code",
   "execution_count": 1,
   "metadata": {},
   "outputs": [],
   "source": [
    "import multiprocessing\n",
    "\n",
    "\n",
    "# Function to perform a computation\n",
    "def square_numbers(numbers, result_queue):\n",
    "    for number in numbers:\n",
    "        result_queue.put(number * number)"
   ]
  },
  {
   "cell_type": "code",
   "execution_count": 2,
   "metadata": {},
   "outputs": [],
   "source": [
    "import multiprocessing\n",
    "\n",
    "\n",
    "def run_multiprocessing_example():\n",
    "    # Create a list of numbers\n",
    "    numbers = [1, 2, 3, 4, 5]\n",
    "\n",
    "    # Create a multiprocessing Queue to store results\n",
    "    result_queue = multiprocessing.Queue()\n",
    "\n",
    "    # Define the number of processes to use\n",
    "    num_processes = 2\n",
    "\n",
    "    # Split the list of numbers into chunks for each process\n",
    "    chunk_size = len(numbers) // num_processes\n",
    "    chunks = [numbers[i : i + chunk_size] for i in range(0, len(numbers), chunk_size)]\n",
    "\n",
    "    # Create processes\n",
    "    processes = []\n",
    "    for chunk in chunks:\n",
    "        process = multiprocessing.Process(\n",
    "            target=square_numbers, args=(chunk, result_queue)\n",
    "        )\n",
    "        processes.append(process)\n",
    "        process.start()\n",
    "\n",
    "    # Wait for all processes to complete\n",
    "    for process in processes:\n",
    "        process.join()\n",
    "\n",
    "    # Get results from the queue\n",
    "    results = []\n",
    "    while not result_queue.empty():\n",
    "        results.append(result_queue.get())\n",
    "\n",
    "    print(\"Original numbers:\", numbers)\n",
    "    print(\"Squared numbers:\", results)"
   ]
  },
  {
   "cell_type": "code",
   "execution_count": 3,
   "metadata": {},
   "outputs": [
    {
     "name": "stdout",
     "output_type": "stream",
     "text": [
      "Original numbers: [1, 2, 3, 4, 5]\n",
      "Squared numbers: []\n"
     ]
    }
   ],
   "source": [
    "run_multiprocessing_example()"
   ]
  },
  {
   "cell_type": "code",
   "execution_count": 4,
   "metadata": {},
   "outputs": [],
   "source": [
    "def square_number(number):\n",
    "    return number * number\n",
    "\n",
    "\n",
    "def run_multiprocessing_with_pool():\n",
    "    # Create a list of numbers\n",
    "    numbers = [1, 2, 3, 4, 5]\n",
    "\n",
    "    # Define the number of processes to use\n",
    "    num_processes = 2\n",
    "\n",
    "    # Create a Pool of processes\n",
    "    with multiprocessing.Pool(num_processes) as pool:\n",
    "        # Map the `square_number` function to each number in `numbers`\n",
    "        results = pool.map(square_number, numbers)\n",
    "\n",
    "    print(\"Original numbers:\", numbers)\n",
    "    print(\"Squared numbers:\", results)"
   ]
  },
  {
   "cell_type": "code",
   "execution_count": 5,
   "metadata": {},
   "outputs": [],
   "source": [
    "def run_multiprocessing_with_pool_nb():\n",
    "    # Create a list of numbers\n",
    "    numbers = [1, 2, 3, 4, 5]\n",
    "\n",
    "    # Define the number of processes to use\n",
    "    num_processes = 2\n",
    "\n",
    "    # Create a Pool of processes using multiprocessing.get_context()\n",
    "    with multiprocessing.get_context(\"spawn\").Pool(num_processes) as pool:\n",
    "        # Map the `square_number` function to each number in `numbers`\n",
    "        results = pool.map(square_number, numbers)\n",
    "\n",
    "    print(\"Original numbers:\", numbers)\n",
    "    print(\"Squared numbers:\", results)"
   ]
  },
  {
   "cell_type": "code",
   "execution_count": 7,
   "metadata": {},
   "outputs": [],
   "source": [
    "if __name__ == \"__main__\":\n",
    "    run_multiprocessing_with_pool_nb()"
   ]
  }
 ],
 "metadata": {
  "kernelspec": {
   "display_name": "huy1",
   "language": "python",
   "name": "python3"
  },
  "language_info": {
   "codemirror_mode": {
    "name": "ipython",
    "version": 3
   },
   "file_extension": ".py",
   "mimetype": "text/x-python",
   "name": "python",
   "nbconvert_exporter": "python",
   "pygments_lexer": "ipython3",
   "version": "3.10.13"
  }
 },
 "nbformat": 4,
 "nbformat_minor": 2
}
